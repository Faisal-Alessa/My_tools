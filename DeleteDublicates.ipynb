{
 "cells": [
  {
   "cell_type": "code",
   "execution_count": 6,
   "id": "4180ece5",
   "metadata": {},
   "outputs": [
    {
     "name": "stdout",
     "output_type": "stream",
     "text": [
      "删除 dqdwqd.jpg\n",
      "删除 ima0ges.jpg\n",
      "删除 1000_b415c79af8.jpg\n",
      "删除 ew.jpg\n",
      "删除 IMG-20150331-WA0028 (2).jpg\n",
      "删除 group-camels.jpg\n",
      "删除 OIP - 2021-05-31T145624.889.jpg\n",
      "删除 OIP (54).jpg\n",
      "文件个数： 1404\n",
      "删除个数： 8\n"
     ]
    }
   ],
   "source": [
    "import os\n",
    "import hashlib\n",
    "\n",
    "def getmd5(filename):\n",
    "    file_txt = open(filename,'rb').read()\n",
    "    m = hashlib.md5(file_txt)\n",
    "    return m.hexdigest()\n",
    "def main(path):\n",
    "    all_size = {}\n",
    "    total_file = 0\n",
    "    total_delete = 0\n",
    "    for root,dirs,files in os.walk(path):\n",
    "        for file in files:\n",
    "            real_path = os.path.join(root,file)\n",
    "            total_file += 1\n",
    "            if os.path.isfile(real_path):\n",
    "                size = os.stat(real_path).st_size\n",
    "                name_and_md5 = [real_path, '']\n",
    "                if size in all_size.keys():\n",
    "                    new_md5 = getmd5(real_path)\n",
    "                    if all_size[size][1] == '':\n",
    "                        all_size[size][1] = getmd5(all_size[size][0])\n",
    "                    if new_md5 in all_size[size]:\n",
    "                        os.remove(real_path)\n",
    "                        print('删除', file)\n",
    "                        total_delete += 1\n",
    "                    else:\n",
    "                        all_size[size].append(new_md5)\n",
    "                else:\n",
    "                    all_size[size] = name_and_md5\n",
    "    print ('文件个数：', total_file)\n",
    "    print ('删除个数：', total_delete)\n",
    "                \n",
    "#    for file in os.listdir(path):\n",
    "#        total_file += 1\n",
    "#        real_path = os.path.join(path, file)\n",
    "#        if os.path.isfile(real_path) == True:\n",
    "#            size = os.stat(real_path).st_size\n",
    "#            name_and_md5 = [real_path, '']\n",
    "#            if size in all_size.keys():\n",
    "#                new_md5 = getmd5(real_path)\n",
    "#                if all_size[size][1] == '':\n",
    "#                    all_size[size][1] = getmd5(all_size[size][0])\n",
    "#                if new_md5 in all_size[size]:\n",
    "#                    os.remove(path+file)\n",
    "#                    print('删除', file)\n",
    "#                    total_delete += 1\n",
    "#                else:\n",
    "#                    all_size[size].append(new_md5)\n",
    "#            else:\n",
    "#                all_size[size] = name_and_md5\n",
    "#    print ('文件个数：', total_file)\n",
    "#    print ('删除个数：', total_delete)\n",
    "if __name__ == '__main__':\n",
    "    main(\"/home/faisal/Documents/data/Camels-data/Imagenet + local/test/Camel\")\n",
    "#    for root,dirs,files in os.walk(\"E:\\Picture\",'r'):  \n",
    "#        for dir in dirs:\n",
    "#            dir = os.path.join(root,dir)\n",
    "#            dirfile = dir + \"\\\\\"\n",
    "#            print(dirfile)\n",
    "#            main(dir)\n",
    "#n = 0 \n",
    "#for root,dirs,files in os.walk(\"E:\\Picture\",'r'):\n",
    "#    for file in files:\n",
    "#        filedir = os.path.join(root,file)\n",
    "#        n += 1\n",
    "#        print(os.path.isfile(filedir))\n",
    "#        print(filedir)\n",
    "#print(n)"
   ]
  },
  {
   "cell_type": "code",
   "execution_count": 7,
   "id": "3a595583",
   "metadata": {},
   "outputs": [],
   "source": [
    "path = \"/home/faisal/Documents/data/Camels-data/Imagenet + local/test/Camel\""
   ]
  },
  {
   "cell_type": "code",
   "execution_count": 8,
   "id": "7707b6d5",
   "metadata": {},
   "outputs": [],
   "source": [
    "# for root,dirs,files in os.walk(path):\n",
    "    \n",
    "#     for file in files:\n",
    "#         if file.endswith('.png'):\n",
    "        \n",
    "#             print(file)\n",
    "#             os.remove(os.path.join(root + '/' + file))"
   ]
  },
  {
   "cell_type": "code",
   "execution_count": 10,
   "id": "9382f515",
   "metadata": {},
   "outputs": [
    {
     "name": "stdout",
     "output_type": "stream",
     "text": [
      "文件个数： 1396\n",
      "删除个数： 0\n"
     ]
    }
   ],
   "source": [
    "main(path)"
   ]
  },
  {
   "cell_type": "code",
   "execution_count": null,
   "id": "1e12b734",
   "metadata": {},
   "outputs": [],
   "source": []
  }
 ],
 "metadata": {
  "kernelspec": {
   "display_name": "Python 3",
   "language": "python",
   "name": "python3"
  },
  "language_info": {
   "codemirror_mode": {
    "name": "ipython",
    "version": 3
   },
   "file_extension": ".py",
   "mimetype": "text/x-python",
   "name": "python",
   "nbconvert_exporter": "python",
   "pygments_lexer": "ipython3",
   "version": "3.9.0"
  }
 },
 "nbformat": 4,
 "nbformat_minor": 5
}
