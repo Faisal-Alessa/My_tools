{
 "cells": [
  {
   "cell_type": "code",
   "execution_count": 171,
   "id": "55ac6449",
   "metadata": {},
   "outputs": [],
   "source": [
    "import pandas as pd\n",
    "import os\n",
    "import numpy as np"
   ]
  },
  {
   "cell_type": "code",
   "execution_count": 172,
   "id": "3c58ab6f",
   "metadata": {
    "scrolled": true
   },
   "outputs": [],
   "source": [
    "raw_data = pd.read_excel('/home/faisal/Documents/data/Saudi-Fundus/RETINA.xlsx', header=None, index_col=False)"
   ]
  },
  {
   "cell_type": "code",
   "execution_count": 173,
   "id": "179cc582",
   "metadata": {},
   "outputs": [
    {
     "data": {
      "text/html": [
       "<div>\n",
       "<style scoped>\n",
       "    .dataframe tbody tr th:only-of-type {\n",
       "        vertical-align: middle;\n",
       "    }\n",
       "\n",
       "    .dataframe tbody tr th {\n",
       "        vertical-align: top;\n",
       "    }\n",
       "\n",
       "    .dataframe thead th {\n",
       "        text-align: right;\n",
       "    }\n",
       "</style>\n",
       "<table border=\"1\" class=\"dataframe\">\n",
       "  <thead>\n",
       "    <tr style=\"text-align: right;\">\n",
       "      <th></th>\n",
       "      <th>0</th>\n",
       "      <th>1</th>\n",
       "      <th>2</th>\n",
       "      <th>3</th>\n",
       "      <th>4</th>\n",
       "      <th>5</th>\n",
       "      <th>6</th>\n",
       "      <th>7</th>\n",
       "      <th>8</th>\n",
       "      <th>9</th>\n",
       "      <th>10</th>\n",
       "    </tr>\n",
       "  </thead>\n",
       "  <tbody>\n",
       "    <tr>\n",
       "      <th>0</th>\n",
       "      <td>N0</td>\n",
       "      <td>NaN</td>\n",
       "      <td>NaN</td>\n",
       "      <td>NaN</td>\n",
       "      <td>NaN</td>\n",
       "      <td>NaN</td>\n",
       "      <td>NaN</td>\n",
       "      <td>NaN</td>\n",
       "      <td>NaN</td>\n",
       "      <td>NaN</td>\n",
       "      <td>NaN</td>\n",
       "    </tr>\n",
       "    <tr>\n",
       "      <th>1</th>\n",
       "      <td>N0</td>\n",
       "      <td>NaN</td>\n",
       "      <td>NaN</td>\n",
       "      <td>NaN</td>\n",
       "      <td>NaN</td>\n",
       "      <td>NaN</td>\n",
       "      <td>NaN</td>\n",
       "      <td>NaN</td>\n",
       "      <td>NaN</td>\n",
       "      <td>NaN</td>\n",
       "      <td>NaN</td>\n",
       "    </tr>\n",
       "    <tr>\n",
       "      <th>2</th>\n",
       "      <td>N2</td>\n",
       "      <td>E</td>\n",
       "      <td>NaN</td>\n",
       "      <td>NaN</td>\n",
       "      <td>NaN</td>\n",
       "      <td>NaN</td>\n",
       "      <td>NaN</td>\n",
       "      <td>NaN</td>\n",
       "      <td>NaN</td>\n",
       "      <td>NaN</td>\n",
       "      <td>NaN</td>\n",
       "    </tr>\n",
       "    <tr>\n",
       "      <th>3</th>\n",
       "      <td>N2</td>\n",
       "      <td>E</td>\n",
       "      <td>NaN</td>\n",
       "      <td>NaN</td>\n",
       "      <td>NaN</td>\n",
       "      <td>NaN</td>\n",
       "      <td>NaN</td>\n",
       "      <td>NaN</td>\n",
       "      <td>NaN</td>\n",
       "      <td>NaN</td>\n",
       "      <td>NaN</td>\n",
       "    </tr>\n",
       "    <tr>\n",
       "      <th>4</th>\n",
       "      <td>NaN</td>\n",
       "      <td>NaN</td>\n",
       "      <td>BRVO</td>\n",
       "      <td>NaN</td>\n",
       "      <td>NaN</td>\n",
       "      <td>NaN</td>\n",
       "      <td>NaN</td>\n",
       "      <td>NaN</td>\n",
       "      <td>NaN</td>\n",
       "      <td>NaN</td>\n",
       "      <td>NaN</td>\n",
       "    </tr>\n",
       "  </tbody>\n",
       "</table>\n",
       "</div>"
      ],
      "text/plain": [
       "    0    1     2    3    4    5    6    7    8    9    10\n",
       "0   N0  NaN   NaN  NaN  NaN  NaN  NaN  NaN  NaN  NaN  NaN\n",
       "1   N0  NaN   NaN  NaN  NaN  NaN  NaN  NaN  NaN  NaN  NaN\n",
       "2   N2    E   NaN  NaN  NaN  NaN  NaN  NaN  NaN  NaN  NaN\n",
       "3   N2    E   NaN  NaN  NaN  NaN  NaN  NaN  NaN  NaN  NaN\n",
       "4  NaN  NaN  BRVO  NaN  NaN  NaN  NaN  NaN  NaN  NaN  NaN"
      ]
     },
     "execution_count": 173,
     "metadata": {},
     "output_type": "execute_result"
    }
   ],
   "source": [
    "raw_data.head()"
   ]
  },
  {
   "cell_type": "code",
   "execution_count": 174,
   "id": "26e0381d",
   "metadata": {},
   "outputs": [],
   "source": [
    "raw_data = raw_data.rename(columns={0:'label'})"
   ]
  },
  {
   "cell_type": "code",
   "execution_count": 175,
   "id": "442acdd1",
   "metadata": {},
   "outputs": [
    {
     "data": {
      "text/plain": [
       "Index(['label', 1, 2, 3, 4, 5, 6, 7, 8, 9, 10], dtype='object')"
      ]
     },
     "execution_count": 175,
     "metadata": {},
     "output_type": "execute_result"
    }
   ],
   "source": [
    "raw_data.columns"
   ]
  },
  {
   "cell_type": "code",
   "execution_count": 176,
   "id": "e0eadaf0",
   "metadata": {},
   "outputs": [
    {
     "data": {
      "text/html": [
       "<div>\n",
       "<style scoped>\n",
       "    .dataframe tbody tr th:only-of-type {\n",
       "        vertical-align: middle;\n",
       "    }\n",
       "\n",
       "    .dataframe tbody tr th {\n",
       "        vertical-align: top;\n",
       "    }\n",
       "\n",
       "    .dataframe thead th {\n",
       "        text-align: right;\n",
       "    }\n",
       "</style>\n",
       "<table border=\"1\" class=\"dataframe\">\n",
       "  <thead>\n",
       "    <tr style=\"text-align: right;\">\n",
       "      <th></th>\n",
       "      <th>label</th>\n",
       "    </tr>\n",
       "  </thead>\n",
       "  <tbody>\n",
       "    <tr>\n",
       "      <th>0</th>\n",
       "      <td>N0</td>\n",
       "    </tr>\n",
       "    <tr>\n",
       "      <th>1</th>\n",
       "      <td>N0</td>\n",
       "    </tr>\n",
       "    <tr>\n",
       "      <th>2</th>\n",
       "      <td>N2</td>\n",
       "    </tr>\n",
       "    <tr>\n",
       "      <th>3</th>\n",
       "      <td>N2</td>\n",
       "    </tr>\n",
       "    <tr>\n",
       "      <th>4</th>\n",
       "      <td>NaN</td>\n",
       "    </tr>\n",
       "    <tr>\n",
       "      <th>...</th>\n",
       "      <td>...</td>\n",
       "    </tr>\n",
       "    <tr>\n",
       "      <th>479</th>\n",
       "      <td>P</td>\n",
       "    </tr>\n",
       "    <tr>\n",
       "      <th>480</th>\n",
       "      <td>P</td>\n",
       "    </tr>\n",
       "    <tr>\n",
       "      <th>481</th>\n",
       "      <td>N1</td>\n",
       "    </tr>\n",
       "    <tr>\n",
       "      <th>482</th>\n",
       "      <td>N1</td>\n",
       "    </tr>\n",
       "    <tr>\n",
       "      <th>483</th>\n",
       "      <td>N1</td>\n",
       "    </tr>\n",
       "  </tbody>\n",
       "</table>\n",
       "<p>484 rows × 1 columns</p>\n",
       "</div>"
      ],
      "text/plain": [
       "    label\n",
       "0      N0\n",
       "1      N0\n",
       "2      N2\n",
       "3      N2\n",
       "4     NaN\n",
       "..    ...\n",
       "479     P\n",
       "480     P\n",
       "481    N1\n",
       "482    N1\n",
       "483    N1\n",
       "\n",
       "[484 rows x 1 columns]"
      ]
     },
     "execution_count": 176,
     "metadata": {},
     "output_type": "execute_result"
    }
   ],
   "source": [
    "raw_data[['label']]"
   ]
  },
  {
   "cell_type": "code",
   "execution_count": 177,
   "id": "b434603e",
   "metadata": {},
   "outputs": [
    {
     "data": {
      "text/plain": [
       "481"
      ]
     },
     "execution_count": 177,
     "metadata": {},
     "output_type": "execute_result"
    }
   ],
   "source": [
    "raw_data['label'].count()"
   ]
  },
  {
   "cell_type": "code",
   "execution_count": 178,
   "id": "00778273",
   "metadata": {},
   "outputs": [
    {
     "data": {
      "text/plain": [
       "3"
      ]
     },
     "execution_count": 178,
     "metadata": {},
     "output_type": "execute_result"
    }
   ],
   "source": [
    "raw_data['label'].isna().sum()"
   ]
  },
  {
   "cell_type": "code",
   "execution_count": 179,
   "id": "2c818379",
   "metadata": {},
   "outputs": [],
   "source": [
    "raw_data['label'][raw_data['label'] == 'N0'] = '0'"
   ]
  },
  {
   "cell_type": "code",
   "execution_count": 180,
   "id": "d09a6c3d",
   "metadata": {},
   "outputs": [],
   "source": [
    "raw_data['label'][raw_data['label'] == 'N1'] = '1'"
   ]
  },
  {
   "cell_type": "code",
   "execution_count": 181,
   "id": "1967019c",
   "metadata": {},
   "outputs": [],
   "source": [
    "raw_data['label'][raw_data['label'] == 'N2'] = '2'"
   ]
  },
  {
   "cell_type": "code",
   "execution_count": 182,
   "id": "c0b155a2",
   "metadata": {},
   "outputs": [],
   "source": [
    "raw_data['label'][raw_data['label'] == 'N3'] = '3'"
   ]
  },
  {
   "cell_type": "code",
   "execution_count": 183,
   "id": "e0aeeeef",
   "metadata": {},
   "outputs": [],
   "source": [
    "raw_data['label'][raw_data['label'] == 'P'] = '4'"
   ]
  },
  {
   "cell_type": "code",
   "execution_count": 184,
   "id": "1b9d688e",
   "metadata": {},
   "outputs": [],
   "source": [
    "raw_data['label'][raw_data['label'] == 'IP'] = np.nan"
   ]
  },
  {
   "cell_type": "code",
   "execution_count": 185,
   "id": "a435a19e",
   "metadata": {},
   "outputs": [],
   "source": [
    "raw_data['label'][raw_data['label'] == 'NR'] = np.nan"
   ]
  },
  {
   "cell_type": "code",
   "execution_count": 192,
   "id": "bca9fb6f",
   "metadata": {
    "scrolled": true
   },
   "outputs": [],
   "source": [
    "# path = '/home/faisal/Documents/data/Saudi-Fundus/Fundus - Glaucoma/'\n",
    "# for root, dirs, files in os.walk(path):\n",
    "#     for file in files:\n",
    "        \n",
    "#         print(file)"
   ]
  },
  {
   "cell_type": "code",
   "execution_count": 188,
   "id": "65de695b",
   "metadata": {},
   "outputs": [],
   "source": [
    "list1 = []\n",
    "for i in range(1, len(raw_data['label'])+1):\n",
    "    list1.append(f'Image ({i})')"
   ]
  },
  {
   "cell_type": "code",
   "execution_count": 189,
   "id": "dd74f63d",
   "metadata": {},
   "outputs": [
    {
     "data": {
      "text/plain": [
       "484"
      ]
     },
     "execution_count": 189,
     "metadata": {},
     "output_type": "execute_result"
    }
   ],
   "source": [
    "len(list1)"
   ]
  },
  {
   "cell_type": "code",
   "execution_count": 193,
   "id": "da6e97d4",
   "metadata": {},
   "outputs": [
    {
     "data": {
      "text/plain": [
       "0        0\n",
       "1        0\n",
       "2        2\n",
       "3        2\n",
       "4      NaN\n",
       "      ... \n",
       "479      4\n",
       "480      4\n",
       "481      1\n",
       "482      1\n",
       "483      1\n",
       "Name: label, Length: 484, dtype: object"
      ]
     },
     "execution_count": 193,
     "metadata": {},
     "output_type": "execute_result"
    }
   ],
   "source": [
    "raw_data['label']"
   ]
  },
  {
   "cell_type": "code",
   "execution_count": 194,
   "id": "efe7193c",
   "metadata": {
    "scrolled": false
   },
   "outputs": [],
   "source": [
    "df = pd.DataFrame(columns=['Image', 'label'])\n",
    "for i in range(len(raw_data['label'])):\n",
    "    df = df.append(pd.DataFrame([[list1[i], raw_data['label'][i]]], columns=['Image', 'label']), ignore_index=True)"
   ]
  },
  {
   "cell_type": "code",
   "execution_count": 195,
   "id": "7e54faa7",
   "metadata": {},
   "outputs": [],
   "source": [
    "df = df.dropna()"
   ]
  },
  {
   "cell_type": "code",
   "execution_count": 196,
   "id": "0ed5405b",
   "metadata": {},
   "outputs": [
    {
     "data": {
      "text/plain": [
       "456"
      ]
     },
     "execution_count": 196,
     "metadata": {},
     "output_type": "execute_result"
    }
   ],
   "source": [
    "len(df)"
   ]
  },
  {
   "cell_type": "code",
   "execution_count": 197,
   "id": "f6b87e3c",
   "metadata": {},
   "outputs": [],
   "source": [
    "df.to_csv('RETINA.csv', index=False)"
   ]
  },
  {
   "cell_type": "code",
   "execution_count": null,
   "id": "5c0d5651",
   "metadata": {},
   "outputs": [],
   "source": []
  }
 ],
 "metadata": {
  "kernelspec": {
   "display_name": "Python 3",
   "language": "python",
   "name": "python3"
  },
  "language_info": {
   "codemirror_mode": {
    "name": "ipython",
    "version": 3
   },
   "file_extension": ".py",
   "mimetype": "text/x-python",
   "name": "python",
   "nbconvert_exporter": "python",
   "pygments_lexer": "ipython3",
   "version": "3.9.0"
  }
 },
 "nbformat": 4,
 "nbformat_minor": 5
}
